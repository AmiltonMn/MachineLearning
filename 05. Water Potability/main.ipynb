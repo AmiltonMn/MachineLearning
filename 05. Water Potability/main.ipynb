{
 "cells": [
  {
   "cell_type": "code",
   "execution_count": null,
   "metadata": {},
   "outputs": [],
   "source": [
    "import pandas as pd\n",
    "from sklearn.model_selection import train_test_split\n",
    "from sklearn.preprocessing import LabelEncoder\n",
    "import numpy as np\n",
    "\n",
    "df = pd.read_csv('../Dataset/water_potability.csv')\n",
    "\n",
    "df.dropna(inplace=True)\n",
    "\n",
    "Y = df['Potability']\n",
    "X = df.drop('Potability', axis = 1)\n",
    "\n",
    "X_train, X_test, Y_train, Y_test = train_test_split(X, Y, test_size = 0.15, random_state = 90)"
   ]
  },
  {
   "cell_type": "code",
   "execution_count": 204,
   "metadata": {},
   "outputs": [
    {
     "name": "stdout",
     "output_type": "stream",
     "text": [
      "Precision train: 0.9893778452200304\n",
      "Precision test: 0.7\n",
      "\n",
      "Accuracy train: 0.9736688121708601\n",
      "Accuracy test: 0.6920529801324503\n",
      "\n",
      "Recall train: 0.9736688121708601\n",
      "Recall test: 0.6920529801324503\n",
      "\n",
      "Matrix train: \n",
      "[[1012    7]\n",
      " [  38  652]]\n",
      "Matrix test: \n",
      "[[160  21]\n",
      " [ 72  49]]\n",
      "\n",
      "\n",
      "Relatório de Classificação (Treino)\n",
      "              precision    recall  f1-score   support\n",
      "\n",
      "           0       0.96      0.99      0.98      1019\n",
      "           1       0.99      0.94      0.97       690\n",
      "\n",
      "    accuracy                           0.97      1709\n",
      "   macro avg       0.98      0.97      0.97      1709\n",
      "weighted avg       0.97      0.97      0.97      1709\n",
      "\n",
      "\n",
      "Relatório de Classificação (Teste)\n",
      "              precision    recall  f1-score   support\n",
      "\n",
      "           0       0.69      0.88      0.77       181\n",
      "           1       0.70      0.40      0.51       121\n",
      "\n",
      "    accuracy                           0.69       302\n",
      "   macro avg       0.69      0.64      0.64       302\n",
      "weighted avg       0.69      0.69      0.67       302\n",
      "\n"
     ]
    }
   ],
   "source": [
    "from sklearn.metrics import accuracy_score, recall_score, precision_score, confusion_matrix, classification_report\n",
    "from sklearn.pipeline import Pipeline\n",
    "from sklearn.preprocessing import StandardScaler\n",
    "from sklearn.ensemble import RandomForestClassifier\n",
    "from joblib import dump\n",
    "\n",
    "pipe = Pipeline([\n",
    "    ('scaler', StandardScaler()),\n",
    "    ('forest', RandomForestClassifier(n_estimators = 112, criterion = 'gini', max_depth = 78, min_samples_split = 13, bootstrap = True))\n",
    "])\n",
    "\n",
    "pipe.fit(X_train, Y_train)\n",
    "\n",
    "dump(pipe, 'WaterPotModel.pkl')\n",
    "\n",
    "predictTrainGrid = pipe.predict(X_train)\n",
    "predictTestGrid = pipe.predict(X_test)\n",
    "\n",
    "print(f\"Precision train: {precision_score(Y_train, predictTrainGrid)}\")\n",
    "print(f\"Precision test: {precision_score(Y_test, predictTestGrid)}\\n\")\n",
    "\n",
    "print(f\"Accuracy train: {accuracy_score(Y_train, predictTrainGrid)}\")\n",
    "print(f\"Accuracy test: {accuracy_score(Y_test, predictTestGrid)}\\n\")\n",
    "\n",
    "print(f\"Recall train: {recall_score(Y_train, predictTrainGrid, average = 'micro')}\")\n",
    "print(f\"Recall test: {recall_score(Y_test, predictTestGrid, average = 'micro')}\\n\")\n",
    "\n",
    "print(f\"Matrix train: \\n{confusion_matrix(Y_train, predictTrainGrid)}\")\n",
    "print(f\"Matrix test: \\n{confusion_matrix(Y_test, predictTestGrid)}\\n\")\n",
    "\n",
    "print(\"\\nRelatório de Classificação (Treino)\")\n",
    "print(classification_report(Y_train, predictTrainGrid))\n",
    "\n",
    "print(\"\\nRelatório de Classificação (Teste)\")\n",
    "print(classification_report(Y_test, predictTestGrid))"
   ]
  },
  {
   "cell_type": "code",
   "execution_count": null,
   "metadata": {},
   "outputs": [],
   "source": []
  }
 ],
 "metadata": {
  "kernelspec": {
   "display_name": "Python 3",
   "language": "python",
   "name": "python3"
  },
  "language_info": {
   "codemirror_mode": {
    "name": "ipython",
    "version": 3
   },
   "file_extension": ".py",
   "mimetype": "text/x-python",
   "name": "python",
   "nbconvert_exporter": "python",
   "pygments_lexer": "ipython3",
   "version": "3.12.1"
  }
 },
 "nbformat": 4,
 "nbformat_minor": 2
}
