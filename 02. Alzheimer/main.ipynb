{
 "cells": [
  {
   "cell_type": "code",
   "execution_count": 1,
   "metadata": {},
   "outputs": [],
   "source": [
    "import pandas as pd\n",
    "\n",
    "from joblib import dump\n",
    "\n",
    "from sklearn.preprocessing import LabelEncoder\n",
    "from sklearn.linear_model import ElasticNet\n",
    "from sklearn import tree\n",
    "from sklearn.model_selection import train_test_split, cross_val_score, GridSearchCV\n",
    "from sklearn.metrics import mean_absolute_error, r2_score, accuracy_score, recall_score, confusion_matrix\n",
    "from sklearn.svm import SVC\n",
    "\n",
    "df = pd.read_csv('../Dataset/alzheimers_prediction_dataset.csv')\n",
    "\n",
    "df = df.dropna()\n",
    "df = df.fillna('Dado Ausente')\n",
    "\n",
    "colList = ['Gender', 'Alcohol Consumption', 'Smoking Status', 'Cholesterol Level', 'Sleep Quality', 'Dietary Habits', 'Physical Activity Level', 'Diabetes', 'Depression Level', 'Air Pollution Exposure', 'Social Engagement Level', 'Income Level', 'Stress Levels', 'Hypertension', 'Family History of Alzheimer’s', 'Genetic Risk Factor (APOE-ε4 allele)', 'Alzheimer’s Diagnosis', 'Marital Status', 'Employment Status', 'Urban vs Rural Living', 'Country']\n",
    "\n",
    "for col in colList:\n",
    "    le = LabelEncoder()\n",
    "    df[col] = le.fit_transform(df[col])\n",
    "\n",
    "Y = df['Alzheimer’s Diagnosis']\n",
    "X = df.drop('Alzheimer’s Diagnosis', axis = 1)\n",
    "\n",
    "X_train, X_test, Y_train, Y_test = train_test_split(X, Y, test_size = 0.15, random_state = 42)\n"
   ]
  },
  {
   "cell_type": "code",
   "execution_count": 4,
   "metadata": {},
   "outputs": [
    {
     "name": "stdout",
     "output_type": "stream",
     "text": [
      "Accuracy treino: 0.7294583465315173\n",
      "Accuracy teste: 0.7259265906847349\n",
      "\n",
      "Recall treino: 0.6728031230863442\n",
      "Recall teste: 0.6604143947655398\n",
      "\n",
      "Matrix treino: \n",
      "[[28479  8533]\n",
      " [ 8549 17579]]\n",
      "Matrix teste: \n",
      "[[5061 1497]\n",
      " [1557 3028]]\n",
      "\n"
     ]
    }
   ],
   "source": [
    "model = tree.DecisionTreeClassifier(criterion = 'entropy', random_state = 0, max_depth=50, min_samples_split=1280)\n",
    "model.fit(X_train, Y_train)\n",
    "\n",
    "print(f\"Accuracy treino: {accuracy_score(Y_train, model.predict(X_train))}\")\n",
    "print(f\"Accuracy teste: {accuracy_score(Y_test, model.predict(X_test))}\\n\")\n",
    "\n",
    "print(f\"Recall treino: {recall_score(Y_train, model.predict(X_train))}\")\n",
    "print(f\"Recall teste: {recall_score(Y_test, model.predict(X_test))}\\n\")\n",
    "\n",
    "print(f\"Matrix treino: \\n{confusion_matrix(Y_train, model.predict(X_train))}\")\n",
    "print(f\"Matrix teste: \\n{confusion_matrix(Y_test, model.predict(X_test))}\\n\")"
   ]
  },
  {
   "cell_type": "code",
   "execution_count": 3,
   "metadata": {},
   "outputs": [
    {
     "name": "stdout",
     "output_type": "stream",
     "text": [
      "Accuracy treino: 0.7126385809312639\n",
      "Accuracy teste: 0.7115678004128152\n",
      "\n",
      "Recall treino: 0.5969458052663809\n",
      "Recall teste: 0.5906215921483097\n",
      "\n",
      "Matrix treino: \n",
      "[[29399  7613]\n",
      " [10531 15597]]\n",
      "Matrix teste: \n",
      "[[5221 1337]\n",
      " [1877 2708]]\n",
      "\n"
     ]
    }
   ],
   "source": [
    "model = SVC(gamma = 'scale')\n",
    "\n",
    "model.fit(X_train, Y_train)\n",
    "\n",
    "predictXTrain = model.predict(X_train)\n",
    "predictXTest = model.predict(X_test)\n",
    "\n",
    "print(f\"Accuracy treino: {accuracy_score(Y_train, predictXTrain)}\")\n",
    "print(f\"Accuracy teste: {accuracy_score(Y_test, predictXTest)}\\n\")\n",
    "\n",
    "print(f\"Recall treino: {recall_score(Y_train, predictXTrain)}\")\n",
    "print(f\"Recall teste: {recall_score(Y_test, predictXTest)}\\n\")\n",
    "\n",
    "print(f\"Matrix treino: \\n{confusion_matrix(Y_train, predictXTrain)}\")\n",
    "print(f\"Matrix teste: \\n{confusion_matrix(Y_test, predictXTest)}\\n\")"
   ]
  }
 ],
 "metadata": {
  "kernelspec": {
   "display_name": "Python 3",
   "language": "python",
   "name": "python3"
  },
  "language_info": {
   "codemirror_mode": {
    "name": "ipython",
    "version": 3
   },
   "file_extension": ".py",
   "mimetype": "text/x-python",
   "name": "python",
   "nbconvert_exporter": "python",
   "pygments_lexer": "ipython3",
   "version": "3.12.1"
  }
 },
 "nbformat": 4,
 "nbformat_minor": 2
}
