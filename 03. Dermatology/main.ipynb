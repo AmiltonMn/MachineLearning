{
 "cells": [
  {
   "cell_type": "code",
   "execution_count": 15,
   "metadata": {},
   "outputs": [],
   "source": [
    "import pandas as pd\n",
    "from sklearn.model_selection import train_test_split\n",
    "from sklearn.preprocessing import LabelEncoder\n",
    "\n",
    "le = LabelEncoder()\n",
    "\n",
    "df = pd.read_csv('../Dataset/dermatology_database_1.csv')\n",
    "df['age'] = pd.to_numeric(df['age'], errors = 'coerce')\n",
    "\n",
    "df['age'] = df['age'].fillna(df['age'].mean())\n",
    "\n",
    "Y = df['class']\n",
    "X = df.drop('class', axis = 1)\n",
    "\n",
    "X_train, X_test, Y_train, Y_test = train_test_split(X, Y, test_size = 0.15, random_state = 42)"
   ]
  },
  {
   "cell_type": "code",
   "execution_count": 37,
   "metadata": {},
   "outputs": [
    {
     "name": "stdout",
     "output_type": "stream",
     "text": [
      "Accuracy train: 1.0\n",
      "Accuracy test: 0.9818181818181818\n",
      "\n",
      "Recall train: 1.0\n",
      "Recall test: 0.9818181818181818\n",
      "\n",
      "Matrix train: \n",
      "[[87  0  0  0  0  0]\n",
      " [ 0 54  0  0  0  0]\n",
      " [ 0  0 63  0  0  0]\n",
      " [ 0  0  0 43  0  0]\n",
      " [ 0  0  0  0 47  0]\n",
      " [ 0  0  0  0  0 17]]\n",
      "Matrix test: \n",
      "[[24  1  0  0  0  0]\n",
      " [ 0  7  0  0  0  0]\n",
      " [ 0  0  9  0  0  0]\n",
      " [ 0  0  0  6  0  0]\n",
      " [ 0  0  0  0  5  0]\n",
      " [ 0  0  0  0  0  3]]\n",
      "\n",
      "Best estimator grid: Pipeline(steps=[('scaler', StandardScaler()),\n",
      "                ('KNeighborsClassifier',\n",
      "                 KNeighborsClassifier(algorithm='ball_tree', leaf_size=5,\n",
      "                                      n_neighbors=10, weights='distance'))])\n",
      "Best params grid: {'KNeighborsClassifier__algorithm': 'ball_tree', 'KNeighborsClassifier__leaf_size': 5, 'KNeighborsClassifier__n_neighbors': 10, 'KNeighborsClassifier__weights': 'distance'}\n"
     ]
    }
   ],
   "source": [
    "from sklearn.neighbors import KNeighborsClassifier\n",
    "from sklearn.metrics import accuracy_score, recall_score, confusion_matrix\n",
    "from sklearn.pipeline import Pipeline\n",
    "from sklearn.preprocessing import StandardScaler\n",
    "from sklearn.model_selection import GridSearchCV\n",
    "\n",
    "pipe = Pipeline([\n",
    "    ('scaler', StandardScaler()),\n",
    "    ('KNeighborsClassifier', KNeighborsClassifier())\n",
    "])\n",
    "\n",
    "parameters = {\n",
    "    'KNeighborsClassifier__n_neighbors': [5, 10, 20, 30],\n",
    "    'KNeighborsClassifier__weights': ['uniform', 'distance'],\n",
    "    'KNeighborsClassifier__algorithm': ['ball_tree', 'kd_tree', 'brute'],\n",
    "    'KNeighborsClassifier__leaf_size': [5, 10, 20, 30, 50]\n",
    "}\n",
    "\n",
    "gridSearch = GridSearchCV(pipe, parameters, cv = 5, n_jobs = 4)\n",
    "gridSearch.fit(X_train, Y_train)\n",
    "\n",
    "predictTrainGrid = gridSearch.predict(X_train)\n",
    "predictTestGrid = gridSearch.predict(X_test)\n",
    "\n",
    "print(f\"Accuracy train: {accuracy_score(Y_train, predictTrainGrid)}\")\n",
    "print(f\"Accuracy test: {accuracy_score(Y_test, predictTestGrid)}\\n\")\n",
    "\n",
    "print(f\"Recall train: {recall_score(Y_train, predictTrainGrid, average = 'micro')}\")\n",
    "print(f\"Recall test: {recall_score(Y_test, predictTestGrid, average = 'micro')}\\n\")\n",
    "\n",
    "print(f\"Matrix train: \\n{confusion_matrix(Y_train, predictTrainGrid)}\")\n",
    "print(f\"Matrix test: \\n{confusion_matrix(Y_test, predictTestGrid)}\\n\")\n",
    "\n",
    "print(f\"Best estimator grid: {gridSearch.best_estimator_}\")\n",
    "print(f\"Best params grid: {gridSearch.best_params_}\")"
   ]
  }
 ],
 "metadata": {
  "kernelspec": {
   "display_name": "Python 3",
   "language": "python",
   "name": "python3"
  },
  "language_info": {
   "codemirror_mode": {
    "name": "ipython",
    "version": 3
   },
   "file_extension": ".py",
   "mimetype": "text/x-python",
   "name": "python",
   "nbconvert_exporter": "python",
   "pygments_lexer": "ipython3",
   "version": "3.12.1"
  }
 },
 "nbformat": 4,
 "nbformat_minor": 2
}
